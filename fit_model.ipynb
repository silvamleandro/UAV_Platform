{
 "cells": [
  {
   "cell_type": "code",
   "execution_count": 34,
   "metadata": {},
   "outputs": [],
   "source": [
    "import numpy as np\n",
    "import pandas as pd\n",
    "\n",
    "DATASET_PATH = 'wireless_attack/dataset.csv'"
   ]
  },
  {
   "cell_type": "code",
   "execution_count": 35,
   "metadata": {},
   "outputs": [
    {
     "name": "stdout",
     "output_type": "stream",
     "text": [
      "0        1\n",
      "1        1\n",
      "2        1\n",
      "3        1\n",
      "4        1\n",
      "        ..\n",
      "54278    1\n",
      "54279    1\n",
      "54280    1\n",
      "54281    1\n",
      "54282    1\n",
      "Length: 54283, dtype: int8\n",
      "0                          Acknowledgement, Flags=........\n",
      "1                          Acknowledgement, Flags=........\n",
      "2                          Acknowledgement, Flags=........\n",
      "3                          Acknowledgement, Flags=........\n",
      "4        QoS Null function (No data), SN=549, FN=0, Fla...\n",
      "                               ...                        \n",
      "54278                      Acknowledgement, Flags=........\n",
      "54279              QoS Data, SN=1066, FN=1, Flags=.pm..MF.\n",
      "54280                      Acknowledgement, Flags=........\n",
      "54281              QoS Data, SN=1066, FN=2, Flags=.pm...F.\n",
      "54282                      Acknowledgement, Flags=........\n",
      "Name: Info, Length: 54283, dtype: category\n",
      "Categories (14101, object): ['Acknowledgement, Flags=........', 'Association Response, SN=430, FN=0, Flags=......, 'Authentication, SN=429, FN=0, Flags=........', 'Beacon frame, SN=0, FN=0, Flags=........, BI=..., ..., 'QoS Null function (No data), SN=727, FN=0, Fl..., 'QoS Null function (No data), SN=728, FN=0, Fl..., 'QoS Null function (No data), SN=729, FN=0, Fl..., 'QoS Null function (No data), SN=730, FN=0, Fl...]\n"
     ]
    }
   ],
   "source": [
    "def load_dataset(filename):\n",
    "    '''Reads some columns of the the CSV dataset, already transforming them to categories,\n",
    "    That is, mimicking the factors function from R. \n",
    "    Also skips data from the TELLO API Exploit type of attack.\n",
    "\n",
    "    Arguments:\n",
    "        filename: Location of the dataset in csv format in the filesystem.\n",
    "\n",
    "    Returns:\n",
    "        The dataset in pandas.DataFrame format.\n",
    "    '''\n",
    "    cols_to_read = ['Length', 'Info', 'Type', 'Attack.Scenario']\n",
    "    dtypes = {'Length': np.int32, 'Info': 'category', 'Type': 'category'}\n",
    "    dataset = []\n",
    "    dataset = pd.read_csv(filename, usecols=cols_to_read, dtype=dtypes, skipfooter=209, engine='python')\n",
    "\n",
    "    return dataset\n",
    "\n",
    "dataset = load_dataset(DATASET_PATH)\n",
    "print(dataset.Type.cat.codes)\n",
    "print(dataset.Info)"
   ]
  },
  {
   "cell_type": "code",
   "execution_count": 38,
   "metadata": {},
   "outputs": [
    {
     "name": "stdout",
     "output_type": "stream",
     "text": [
      "Legitimate Deauthentication: Length             23263\n",
      "Info               23263\n",
      "Type               23263\n",
      "Attack.Scenario    23263\n",
      "dtype: int64\n",
      "False deathentication: Length             17263\n",
      "Info               17263\n",
      "Type               17263\n",
      "Attack.Scenario    17263\n",
      "dtype: int64\n",
      "Dataset balance:\n",
      "\tTotal: 40526\n",
      "\tLegitimate: 57.403%\n",
      "\tFalse: 42.597%\n"
     ]
    }
   ],
   "source": [
    "deauth_dataset = dataset[dataset['Attack.Scenario'] == 'WPA2-PSK WIFI Cracking Attack']\n",
    "legit_deauth = deauth_dataset[deauth_dataset.Type == \"Normal\"]\n",
    "false_deauth = deauth_dataset[deauth_dataset.Type == \"Attack\"]\n",
    "print(f'Legitimate Deauthentication: {legit_deauth.count()}')\n",
    "print(f'False deathentication: {false_deauth.count()}')\n",
    "print(f'''Dataset balance:\n",
    "\\tTotal: {len(deauth_dataset)}\n",
    "\\tLegitimate: {(len(legit_deauth) / len(deauth_dataset) * 100):.3f}%\n",
    "\\tFalse: {(len(false_deauth) / len(deauth_dataset) * 100):.3f}%''')"
   ]
  }
 ],
 "metadata": {
  "kernelspec": {
   "display_name": "Python 3.10.5 ('ssc5972')",
   "language": "python",
   "name": "python3"
  },
  "language_info": {
   "codemirror_mode": {
    "name": "ipython",
    "version": 3
   },
   "file_extension": ".py",
   "mimetype": "text/x-python",
   "name": "python",
   "nbconvert_exporter": "python",
   "pygments_lexer": "ipython3",
   "version": "3.10.5"
  },
  "orig_nbformat": 4,
  "vscode": {
   "interpreter": {
    "hash": "57d4714dd1966d4abbaf684a733e9884402b3cda84ccfd5388ff061401e2e0bd"
   }
  }
 },
 "nbformat": 4,
 "nbformat_minor": 2
}
